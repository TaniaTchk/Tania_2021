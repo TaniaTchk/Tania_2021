{
 "cells": [
  {
   "cell_type": "code",
   "execution_count": 1,
   "metadata": {},
   "outputs": [],
   "source": [
    "import pandas as pd\n",
    "import plotly.express as px\n",
    "import plotly.graph_objects as go\n",
    "from plotly.subplots import make_subplots\n",
    "import plotly.io as pio\n",
    "\n",
    "pd.options.display.max_columns = None"
   ]
  },
  {
   "cell_type": "code",
   "execution_count": null,
   "metadata": {},
   "outputs": [],
   "source": []
  },
  {
   "cell_type": "code",
   "execution_count": 145,
   "metadata": {},
   "outputs": [
    {
     "data": {
      "text/html": [
       "<div>\n",
       "<style scoped>\n",
       "    .dataframe tbody tr th:only-of-type {\n",
       "        vertical-align: middle;\n",
       "    }\n",
       "\n",
       "    .dataframe tbody tr th {\n",
       "        vertical-align: top;\n",
       "    }\n",
       "\n",
       "    .dataframe thead th {\n",
       "        text-align: right;\n",
       "    }\n",
       "</style>\n",
       "<table border=\"1\" class=\"dataframe\">\n",
       "  <thead>\n",
       "    <tr style=\"text-align: right;\">\n",
       "      <th></th>\n",
       "      <th>city</th>\n",
       "      <th>name</th>\n",
       "      <th>temperature</th>\n",
       "      <th>score</th>\n",
       "      <th>coords</th>\n",
       "      <th>Lon</th>\n",
       "      <th>Lat</th>\n",
       "    </tr>\n",
       "  </thead>\n",
       "  <tbody>\n",
       "    <tr>\n",
       "      <th>0</th>\n",
       "      <td>Bayonne</td>\n",
       "      <td>UNIQUE APPARTEMENT TYPE HAUSSMANIEN - BAYONNE ...</td>\n",
       "      <td>18.818571</td>\n",
       "      <td>9,7</td>\n",
       "      <td>-1.4608242,43.484436388929</td>\n",
       "      <td>-1.4608242</td>\n",
       "      <td>43.484436388929</td>\n",
       "    </tr>\n",
       "    <tr>\n",
       "      <th>1</th>\n",
       "      <td>Bormes-les-Mimosas</td>\n",
       "      <td>HomeStay Bormes</td>\n",
       "      <td>18.848571</td>\n",
       "      <td>9,7</td>\n",
       "      <td>6.327724,43.146445</td>\n",
       "      <td>6.327724</td>\n",
       "      <td>43.146445</td>\n",
       "    </tr>\n",
       "    <tr>\n",
       "      <th>2</th>\n",
       "      <td>Cassis</td>\n",
       "      <td>SunRise Cassis</td>\n",
       "      <td>18.404286</td>\n",
       "      <td>9,6</td>\n",
       "      <td>5.535681865746,43.215219077059</td>\n",
       "      <td>5.535681865746</td>\n",
       "      <td>43.215219077059</td>\n",
       "    </tr>\n",
       "    <tr>\n",
       "      <th>3</th>\n",
       "      <td>Bayonne</td>\n",
       "      <td>Péniche DJEBELLE</td>\n",
       "      <td>18.818571</td>\n",
       "      <td>9,6</td>\n",
       "      <td>-1.473749,43.496335</td>\n",
       "      <td>-1.473749</td>\n",
       "      <td>43.496335</td>\n",
       "    </tr>\n",
       "    <tr>\n",
       "      <th>4</th>\n",
       "      <td>Cassis</td>\n",
       "      <td>Chambre d'hôtes Clos du Petit Jésus</td>\n",
       "      <td>18.404286</td>\n",
       "      <td>9,6</td>\n",
       "      <td>5.54466784000397,43.2152456888053</td>\n",
       "      <td>5.54466784000397</td>\n",
       "      <td>43.2152456888053</td>\n",
       "    </tr>\n",
       "    <tr>\n",
       "      <th>5</th>\n",
       "      <td>Cassis</td>\n",
       "      <td>SunSet Cassis</td>\n",
       "      <td>18.404286</td>\n",
       "      <td>9,5</td>\n",
       "      <td>5.535734,43.215456</td>\n",
       "      <td>5.535734</td>\n",
       "      <td>43.215456</td>\n",
       "    </tr>\n",
       "    <tr>\n",
       "      <th>6</th>\n",
       "      <td>Cassis</td>\n",
       "      <td>CASSIS CENTRE NEUF 72 M2 CLIM ET PLACE PRIVÉE</td>\n",
       "      <td>18.404286</td>\n",
       "      <td>9,4</td>\n",
       "      <td>5.543612509787,43.214623017996</td>\n",
       "      <td>5.543612509787</td>\n",
       "      <td>43.214623017996</td>\n",
       "    </tr>\n",
       "    <tr>\n",
       "      <th>7</th>\n",
       "      <td>Cassis</td>\n",
       "      <td>La douceur de Cassis</td>\n",
       "      <td>18.404286</td>\n",
       "      <td>9,4</td>\n",
       "      <td>5.530956,43.215009</td>\n",
       "      <td>5.530956</td>\n",
       "      <td>43.215009</td>\n",
       "    </tr>\n",
       "    <tr>\n",
       "      <th>8</th>\n",
       "      <td>Cassis</td>\n",
       "      <td>Cassis Ma Vie Là</td>\n",
       "      <td>18.404286</td>\n",
       "      <td>9,4</td>\n",
       "      <td>5.541446,43.216905</td>\n",
       "      <td>5.541446</td>\n",
       "      <td>43.216905</td>\n",
       "    </tr>\n",
       "    <tr>\n",
       "      <th>9</th>\n",
       "      <td>Bayonne</td>\n",
       "      <td>Parc 709 Bayonne</td>\n",
       "      <td>18.818571</td>\n",
       "      <td>9,4</td>\n",
       "      <td>-1.481317,43.495606</td>\n",
       "      <td>-1.481317</td>\n",
       "      <td>43.495606</td>\n",
       "    </tr>\n",
       "    <tr>\n",
       "      <th>10</th>\n",
       "      <td>Bayonne</td>\n",
       "      <td>5 Rue des Faures</td>\n",
       "      <td>18.818571</td>\n",
       "      <td>9,4</td>\n",
       "      <td>-1.4790953,43.4893908</td>\n",
       "      <td>-1.4790953</td>\n",
       "      <td>43.4893908</td>\n",
       "    </tr>\n",
       "    <tr>\n",
       "      <th>11</th>\n",
       "      <td>Collioure</td>\n",
       "      <td>Appartement Sous le Soleil</td>\n",
       "      <td>19.267143</td>\n",
       "      <td>9,4</td>\n",
       "      <td>3.07651609999994,42.5271222</td>\n",
       "      <td>3.07651609999994</td>\n",
       "      <td>42.5271222</td>\n",
       "    </tr>\n",
       "    <tr>\n",
       "      <th>12</th>\n",
       "      <td>Collioure</td>\n",
       "      <td>Les Suites de Collioure</td>\n",
       "      <td>19.267143</td>\n",
       "      <td>9,4</td>\n",
       "      <td>3.082726,42.52439</td>\n",
       "      <td>3.082726</td>\n",
       "      <td>42.52439</td>\n",
       "    </tr>\n",
       "    <tr>\n",
       "      <th>13</th>\n",
       "      <td>Cassis</td>\n",
       "      <td>CASSIS CENTER</td>\n",
       "      <td>18.404286</td>\n",
       "      <td>9,4</td>\n",
       "      <td>5.542307,43.2150963</td>\n",
       "      <td>5.542307</td>\n",
       "      <td>43.2150963</td>\n",
       "    </tr>\n",
       "    <tr>\n",
       "      <th>14</th>\n",
       "      <td>Cassis</td>\n",
       "      <td>INDIGO</td>\n",
       "      <td>18.404286</td>\n",
       "      <td>9,3</td>\n",
       "      <td>5.539989455469,43.219562445986</td>\n",
       "      <td>5.539989455469</td>\n",
       "      <td>43.219562445986</td>\n",
       "    </tr>\n",
       "    <tr>\n",
       "      <th>15</th>\n",
       "      <td>Cassis</td>\n",
       "      <td>Appart Port Cassis Village Parking</td>\n",
       "      <td>18.404286</td>\n",
       "      <td>9,3</td>\n",
       "      <td>5.53784390552255,43.2146261309295</td>\n",
       "      <td>5.53784390552255</td>\n",
       "      <td>43.2146261309295</td>\n",
       "    </tr>\n",
       "    <tr>\n",
       "      <th>16</th>\n",
       "      <td>Bormes-les-Mimosas</td>\n",
       "      <td>Villa Nais B&amp;B</td>\n",
       "      <td>18.848571</td>\n",
       "      <td>9,3</td>\n",
       "      <td>6.32169306278229,43.1591554313712</td>\n",
       "      <td>6.32169306278229</td>\n",
       "      <td>43.1591554313712</td>\n",
       "    </tr>\n",
       "    <tr>\n",
       "      <th>17</th>\n",
       "      <td>Bayonne</td>\n",
       "      <td>Large and confortable apartment on Bayonne cit...</td>\n",
       "      <td>18.818571</td>\n",
       "      <td>9,3</td>\n",
       "      <td>-1.46441379999999,43.4940723</td>\n",
       "      <td>-1.46441379999999</td>\n",
       "      <td>43.4940723</td>\n",
       "    </tr>\n",
       "    <tr>\n",
       "      <th>18</th>\n",
       "      <td>Cassis</td>\n",
       "      <td>HPC Suites</td>\n",
       "      <td>18.404286</td>\n",
       "      <td>9,2</td>\n",
       "      <td>5.5417457245369,43.2164402368568</td>\n",
       "      <td>5.5417457245369</td>\n",
       "      <td>43.2164402368568</td>\n",
       "    </tr>\n",
       "    <tr>\n",
       "      <th>19</th>\n",
       "      <td>Collioure</td>\n",
       "      <td>COLLIOURE tres bel appart a 150 metres des pla...</td>\n",
       "      <td>19.267143</td>\n",
       "      <td>9,1</td>\n",
       "      <td>3.0869409,42.5224086</td>\n",
       "      <td>3.0869409</td>\n",
       "      <td>42.5224086</td>\n",
       "    </tr>\n",
       "  </tbody>\n",
       "</table>\n",
       "</div>"
      ],
      "text/plain": [
       "                  city                                               name  \\\n",
       "0              Bayonne  UNIQUE APPARTEMENT TYPE HAUSSMANIEN - BAYONNE ...   \n",
       "1   Bormes-les-Mimosas                                    HomeStay Bormes   \n",
       "2               Cassis                                     SunRise Cassis   \n",
       "3              Bayonne                                   Péniche DJEBELLE   \n",
       "4               Cassis                Chambre d'hôtes Clos du Petit Jésus   \n",
       "5               Cassis                                      SunSet Cassis   \n",
       "6               Cassis      CASSIS CENTRE NEUF 72 M2 CLIM ET PLACE PRIVÉE   \n",
       "7               Cassis                               La douceur de Cassis   \n",
       "8               Cassis                                   Cassis Ma Vie Là   \n",
       "9              Bayonne                                   Parc 709 Bayonne   \n",
       "10             Bayonne                                   5 Rue des Faures   \n",
       "11           Collioure                         Appartement Sous le Soleil   \n",
       "12           Collioure                            Les Suites de Collioure   \n",
       "13              Cassis                                      CASSIS CENTER   \n",
       "14              Cassis                                             INDIGO   \n",
       "15              Cassis                 Appart Port Cassis Village Parking   \n",
       "16  Bormes-les-Mimosas                                     Villa Nais B&B   \n",
       "17             Bayonne  Large and confortable apartment on Bayonne cit...   \n",
       "18              Cassis                                         HPC Suites   \n",
       "19           Collioure  COLLIOURE tres bel appart a 150 metres des pla...   \n",
       "\n",
       "    temperature  score                             coords                Lon  \\\n",
       "0     18.818571   9,7          -1.4608242,43.484436388929         -1.4608242   \n",
       "1     18.848571   9,7                  6.327724,43.146445           6.327724   \n",
       "2     18.404286   9,6      5.535681865746,43.215219077059     5.535681865746   \n",
       "3     18.818571   9,6                 -1.473749,43.496335          -1.473749   \n",
       "4     18.404286   9,6   5.54466784000397,43.2152456888053   5.54466784000397   \n",
       "5     18.404286   9,5                  5.535734,43.215456           5.535734   \n",
       "6     18.404286   9,4      5.543612509787,43.214623017996     5.543612509787   \n",
       "7     18.404286   9,4                  5.530956,43.215009           5.530956   \n",
       "8     18.404286   9,4                  5.541446,43.216905           5.541446   \n",
       "9     18.818571   9,4                 -1.481317,43.495606          -1.481317   \n",
       "10    18.818571   9,4               -1.4790953,43.4893908         -1.4790953   \n",
       "11    19.267143   9,4         3.07651609999994,42.5271222   3.07651609999994   \n",
       "12    19.267143   9,4                   3.082726,42.52439           3.082726   \n",
       "13    18.404286   9,4                 5.542307,43.2150963           5.542307   \n",
       "14    18.404286   9,3      5.539989455469,43.219562445986     5.539989455469   \n",
       "15    18.404286   9,3   5.53784390552255,43.2146261309295   5.53784390552255   \n",
       "16    18.848571   9,3   6.32169306278229,43.1591554313712   6.32169306278229   \n",
       "17    18.818571   9,3        -1.46441379999999,43.4940723  -1.46441379999999   \n",
       "18    18.404286   9,2    5.5417457245369,43.2164402368568    5.5417457245369   \n",
       "19    19.267143   9,1                3.0869409,42.5224086          3.0869409   \n",
       "\n",
       "                 Lat  \n",
       "0    43.484436388929  \n",
       "1          43.146445  \n",
       "2    43.215219077059  \n",
       "3          43.496335  \n",
       "4   43.2152456888053  \n",
       "5          43.215456  \n",
       "6    43.214623017996  \n",
       "7          43.215009  \n",
       "8          43.216905  \n",
       "9          43.495606  \n",
       "10        43.4893908  \n",
       "11        42.5271222  \n",
       "12          42.52439  \n",
       "13        43.2150963  \n",
       "14   43.219562445986  \n",
       "15  43.2146261309295  \n",
       "16  43.1591554313712  \n",
       "17        43.4940723  \n",
       "18  43.2164402368568  \n",
       "19        42.5224086  "
      ]
     },
     "execution_count": 145,
     "metadata": {},
     "output_type": "execute_result"
    }
   ],
   "source": [
    "#création du dataframe\n",
    "dataset = pd.read_csv(\"https://jedha1979.s3.eu-west-3.amazonaws.com/top_hotel_temperature.csv\")\n",
    "#division de la colonne coords en 2 colonnes lon et lat\n",
    "dataset[['Lon','Lat']] = dataset.coords.str.split(\",\",expand=True)\n",
    "#affichage des 5 premières lignes du dataframe (par défaut)\n",
    "dataset.head(25)\n"
   ]
  },
  {
   "cell_type": "code",
   "execution_count": 20,
   "metadata": {},
   "outputs": [
    {
     "data": {
      "text/plain": [
       "city            object\n",
       "name            object\n",
       "temperature    float64\n",
       "score           object\n",
       "coords          object\n",
       "Lon             object\n",
       "Lat             object\n",
       "dtype: object"
      ]
     },
     "execution_count": 20,
     "metadata": {},
     "output_type": "execute_result"
    }
   ],
   "source": [
    "#identification du type de valeurs des colonnes\n",
    "dataset.dtypes"
   ]
  },
  {
   "cell_type": "code",
   "execution_count": 28,
   "metadata": {},
   "outputs": [],
   "source": [
    "#conversion des valeurs des colonnes Lon et Lat en float pour que plotly puisse traiter les données\n",
    "dataset[[\"Lon\", \"Lat\"]] = dataset[[\"Lon\", \"Lat\"]].apply(pd.to_numeric)"
   ]
  },
  {
   "cell_type": "code",
   "execution_count": 29,
   "metadata": {},
   "outputs": [
    {
     "data": {
      "text/plain": [
       "city            object\n",
       "name            object\n",
       "temperature    float64\n",
       "score           object\n",
       "coords          object\n",
       "Lon            float64\n",
       "Lat            float64\n",
       "dtype: object"
      ]
     },
     "execution_count": 29,
     "metadata": {},
     "output_type": "execute_result"
    }
   ],
   "source": [
    "#vérification de la conversion des colonnes Lon et Lat en float\n",
    "dataset.dtypes"
   ]
  },
  {
   "cell_type": "code",
   "execution_count": 144,
   "metadata": {},
   "outputs": [
    {
     "data": {
      "application/vnd.plotly.v1+json": {
       "config": {
        "plotlyServerURL": "https://plot.ly"
       },
       "data": [
        {
         "hovertemplate": "<b>%{hovertext}</b><br><br>name=%{text}<br>Lat=%{lat}<br>Lon=%{lon}<br>temperature=%{marker.color}<extra></extra>",
         "hovertext": [
          "Bayonne",
          "Bormes-les-Mimosas",
          "Cassis",
          "Bayonne",
          "Cassis",
          "Cassis",
          "Cassis",
          "Cassis",
          "Cassis",
          "Bayonne",
          "Bayonne",
          "Collioure",
          "Collioure",
          "Cassis",
          "Cassis",
          "Cassis",
          "Bormes-les-Mimosas",
          "Bayonne",
          "Cassis",
          "Collioure"
         ],
         "lat": [
          43.484436388929005,
          43.146445,
          43.215219077059004,
          43.496334999999995,
          43.2152456888053,
          43.215456,
          43.214623017996,
          43.215009,
          43.216905,
          43.495606,
          43.4893908,
          42.5271222,
          42.524390000000004,
          43.2150963,
          43.21956244598601,
          43.214626130929496,
          43.159155431371204,
          43.4940723,
          43.2164402368568,
          42.5224086
         ],
         "legendgroup": "",
         "lon": [
          -1.4608242,
          6.327724,
          5.535681865746,
          -1.473749,
          5.54466784000397,
          5.535734,
          5.543612509787001,
          5.530956,
          5.541446,
          -1.481317,
          -1.4790953000000002,
          3.0765160999999397,
          3.0827259999999996,
          5.542307,
          5.539989455469001,
          5.53784390552255,
          6.32169306278229,
          -1.4644137999999898,
          5.5417457245369,
          3.0869409
         ],
         "marker": {
          "color": [
           18.81857143,
           18.84857143,
           18.40428571,
           18.81857143,
           18.40428571,
           18.40428571,
           18.40428571,
           18.40428571,
           18.40428571,
           18.81857143,
           18.81857143,
           19.26714286,
           19.26714286,
           18.40428571,
           18.40428571,
           18.40428571,
           18.84857143,
           18.81857143,
           18.40428571,
           19.26714286
          ],
          "coloraxis": "coloraxis",
          "opacity": 0.6,
          "size": 16
         },
         "mode": "markers+text",
         "name": "",
         "showlegend": false,
         "subplot": "mapbox",
         "text": [
          "UNIQUE APPARTEMENT TYPE HAUSSMANIEN - BAYONNE CENTRE",
          "HomeStay Bormes",
          "SunRise Cassis",
          "Péniche DJEBELLE",
          "Chambre d'hôtes Clos du Petit Jésus",
          "SunSet Cassis",
          "CASSIS CENTRE NEUF 72 M2 CLIM ET PLACE PRIVÉE",
          "La douceur de Cassis",
          "Cassis Ma Vie Là",
          "Parc 709 Bayonne",
          "5 Rue des Faures",
          "Appartement Sous le Soleil",
          "Les Suites de Collioure",
          "CASSIS CENTER",
          "INDIGO",
          "Appart Port Cassis Village Parking",
          "Villa Nais B&B",
          "Large and confortable apartment on Bayonne city-center - Welkeys",
          "HPC Suites",
          "COLLIOURE tres bel appart a 150 metres des plages avec jardin prive et parking dans residence securisee"
         ],
         "type": "scattermapbox"
        }
       ],
       "layout": {
        "coloraxis": {
         "colorbar": {
          "title": {
           "text": "temperature"
          }
         },
         "colorscale": [
          [
           0,
           "rgb(255,255,204)"
          ],
          [
           0.125,
           "rgb(255,237,160)"
          ],
          [
           0.25,
           "rgb(254,217,118)"
          ],
          [
           0.375,
           "rgb(254,178,76)"
          ],
          [
           0.5,
           "rgb(253,141,60)"
          ],
          [
           0.625,
           "rgb(252,78,42)"
          ],
          [
           0.75,
           "rgb(227,26,28)"
          ],
          [
           0.875,
           "rgb(189,0,38)"
          ],
          [
           1,
           "rgb(128,0,38)"
          ]
         ]
        },
        "legend": {
         "tracegroupgap": 0
        },
        "mapbox": {
         "center": {
          "lat": 43.174877230896634,
          "lon": 3.496509253192383
         },
         "domain": {
          "x": [
           0,
           1
          ],
          "y": [
           0,
           1
          ]
         },
         "style": "carto-darkmatter",
         "zoom": 3.4
        },
        "margin": {
         "t": 60
        },
        "template": {
         "data": {
          "bar": [
           {
            "error_x": {
             "color": "#2a3f5f"
            },
            "error_y": {
             "color": "#2a3f5f"
            },
            "marker": {
             "line": {
              "color": "#E5ECF6",
              "width": 0.5
             }
            },
            "type": "bar"
           }
          ],
          "barpolar": [
           {
            "marker": {
             "line": {
              "color": "#E5ECF6",
              "width": 0.5
             }
            },
            "type": "barpolar"
           }
          ],
          "carpet": [
           {
            "aaxis": {
             "endlinecolor": "#2a3f5f",
             "gridcolor": "white",
             "linecolor": "white",
             "minorgridcolor": "white",
             "startlinecolor": "#2a3f5f"
            },
            "baxis": {
             "endlinecolor": "#2a3f5f",
             "gridcolor": "white",
             "linecolor": "white",
             "minorgridcolor": "white",
             "startlinecolor": "#2a3f5f"
            },
            "type": "carpet"
           }
          ],
          "choropleth": [
           {
            "colorbar": {
             "outlinewidth": 0,
             "ticks": ""
            },
            "type": "choropleth"
           }
          ],
          "contour": [
           {
            "colorbar": {
             "outlinewidth": 0,
             "ticks": ""
            },
            "colorscale": [
             [
              0,
              "#0d0887"
             ],
             [
              0.1111111111111111,
              "#46039f"
             ],
             [
              0.2222222222222222,
              "#7201a8"
             ],
             [
              0.3333333333333333,
              "#9c179e"
             ],
             [
              0.4444444444444444,
              "#bd3786"
             ],
             [
              0.5555555555555556,
              "#d8576b"
             ],
             [
              0.6666666666666666,
              "#ed7953"
             ],
             [
              0.7777777777777778,
              "#fb9f3a"
             ],
             [
              0.8888888888888888,
              "#fdca26"
             ],
             [
              1,
              "#f0f921"
             ]
            ],
            "type": "contour"
           }
          ],
          "contourcarpet": [
           {
            "colorbar": {
             "outlinewidth": 0,
             "ticks": ""
            },
            "type": "contourcarpet"
           }
          ],
          "heatmap": [
           {
            "colorbar": {
             "outlinewidth": 0,
             "ticks": ""
            },
            "colorscale": [
             [
              0,
              "#0d0887"
             ],
             [
              0.1111111111111111,
              "#46039f"
             ],
             [
              0.2222222222222222,
              "#7201a8"
             ],
             [
              0.3333333333333333,
              "#9c179e"
             ],
             [
              0.4444444444444444,
              "#bd3786"
             ],
             [
              0.5555555555555556,
              "#d8576b"
             ],
             [
              0.6666666666666666,
              "#ed7953"
             ],
             [
              0.7777777777777778,
              "#fb9f3a"
             ],
             [
              0.8888888888888888,
              "#fdca26"
             ],
             [
              1,
              "#f0f921"
             ]
            ],
            "type": "heatmap"
           }
          ],
          "heatmapgl": [
           {
            "colorbar": {
             "outlinewidth": 0,
             "ticks": ""
            },
            "colorscale": [
             [
              0,
              "#0d0887"
             ],
             [
              0.1111111111111111,
              "#46039f"
             ],
             [
              0.2222222222222222,
              "#7201a8"
             ],
             [
              0.3333333333333333,
              "#9c179e"
             ],
             [
              0.4444444444444444,
              "#bd3786"
             ],
             [
              0.5555555555555556,
              "#d8576b"
             ],
             [
              0.6666666666666666,
              "#ed7953"
             ],
             [
              0.7777777777777778,
              "#fb9f3a"
             ],
             [
              0.8888888888888888,
              "#fdca26"
             ],
             [
              1,
              "#f0f921"
             ]
            ],
            "type": "heatmapgl"
           }
          ],
          "histogram": [
           {
            "marker": {
             "colorbar": {
              "outlinewidth": 0,
              "ticks": ""
             }
            },
            "type": "histogram"
           }
          ],
          "histogram2d": [
           {
            "colorbar": {
             "outlinewidth": 0,
             "ticks": ""
            },
            "colorscale": [
             [
              0,
              "#0d0887"
             ],
             [
              0.1111111111111111,
              "#46039f"
             ],
             [
              0.2222222222222222,
              "#7201a8"
             ],
             [
              0.3333333333333333,
              "#9c179e"
             ],
             [
              0.4444444444444444,
              "#bd3786"
             ],
             [
              0.5555555555555556,
              "#d8576b"
             ],
             [
              0.6666666666666666,
              "#ed7953"
             ],
             [
              0.7777777777777778,
              "#fb9f3a"
             ],
             [
              0.8888888888888888,
              "#fdca26"
             ],
             [
              1,
              "#f0f921"
             ]
            ],
            "type": "histogram2d"
           }
          ],
          "histogram2dcontour": [
           {
            "colorbar": {
             "outlinewidth": 0,
             "ticks": ""
            },
            "colorscale": [
             [
              0,
              "#0d0887"
             ],
             [
              0.1111111111111111,
              "#46039f"
             ],
             [
              0.2222222222222222,
              "#7201a8"
             ],
             [
              0.3333333333333333,
              "#9c179e"
             ],
             [
              0.4444444444444444,
              "#bd3786"
             ],
             [
              0.5555555555555556,
              "#d8576b"
             ],
             [
              0.6666666666666666,
              "#ed7953"
             ],
             [
              0.7777777777777778,
              "#fb9f3a"
             ],
             [
              0.8888888888888888,
              "#fdca26"
             ],
             [
              1,
              "#f0f921"
             ]
            ],
            "type": "histogram2dcontour"
           }
          ],
          "mesh3d": [
           {
            "colorbar": {
             "outlinewidth": 0,
             "ticks": ""
            },
            "type": "mesh3d"
           }
          ],
          "parcoords": [
           {
            "line": {
             "colorbar": {
              "outlinewidth": 0,
              "ticks": ""
             }
            },
            "type": "parcoords"
           }
          ],
          "pie": [
           {
            "automargin": true,
            "type": "pie"
           }
          ],
          "scatter": [
           {
            "marker": {
             "colorbar": {
              "outlinewidth": 0,
              "ticks": ""
             }
            },
            "type": "scatter"
           }
          ],
          "scatter3d": [
           {
            "line": {
             "colorbar": {
              "outlinewidth": 0,
              "ticks": ""
             }
            },
            "marker": {
             "colorbar": {
              "outlinewidth": 0,
              "ticks": ""
             }
            },
            "type": "scatter3d"
           }
          ],
          "scattercarpet": [
           {
            "marker": {
             "colorbar": {
              "outlinewidth": 0,
              "ticks": ""
             }
            },
            "type": "scattercarpet"
           }
          ],
          "scattergeo": [
           {
            "marker": {
             "colorbar": {
              "outlinewidth": 0,
              "ticks": ""
             }
            },
            "type": "scattergeo"
           }
          ],
          "scattergl": [
           {
            "marker": {
             "colorbar": {
              "outlinewidth": 0,
              "ticks": ""
             }
            },
            "type": "scattergl"
           }
          ],
          "scattermapbox": [
           {
            "marker": {
             "colorbar": {
              "outlinewidth": 0,
              "ticks": ""
             }
            },
            "type": "scattermapbox"
           }
          ],
          "scatterpolar": [
           {
            "marker": {
             "colorbar": {
              "outlinewidth": 0,
              "ticks": ""
             }
            },
            "type": "scatterpolar"
           }
          ],
          "scatterpolargl": [
           {
            "marker": {
             "colorbar": {
              "outlinewidth": 0,
              "ticks": ""
             }
            },
            "type": "scatterpolargl"
           }
          ],
          "scatterternary": [
           {
            "marker": {
             "colorbar": {
              "outlinewidth": 0,
              "ticks": ""
             }
            },
            "type": "scatterternary"
           }
          ],
          "surface": [
           {
            "colorbar": {
             "outlinewidth": 0,
             "ticks": ""
            },
            "colorscale": [
             [
              0,
              "#0d0887"
             ],
             [
              0.1111111111111111,
              "#46039f"
             ],
             [
              0.2222222222222222,
              "#7201a8"
             ],
             [
              0.3333333333333333,
              "#9c179e"
             ],
             [
              0.4444444444444444,
              "#bd3786"
             ],
             [
              0.5555555555555556,
              "#d8576b"
             ],
             [
              0.6666666666666666,
              "#ed7953"
             ],
             [
              0.7777777777777778,
              "#fb9f3a"
             ],
             [
              0.8888888888888888,
              "#fdca26"
             ],
             [
              1,
              "#f0f921"
             ]
            ],
            "type": "surface"
           }
          ],
          "table": [
           {
            "cells": {
             "fill": {
              "color": "#EBF0F8"
             },
             "line": {
              "color": "white"
             }
            },
            "header": {
             "fill": {
              "color": "#C8D4E3"
             },
             "line": {
              "color": "white"
             }
            },
            "type": "table"
           }
          ]
         },
         "layout": {
          "annotationdefaults": {
           "arrowcolor": "#2a3f5f",
           "arrowhead": 0,
           "arrowwidth": 1
          },
          "coloraxis": {
           "colorbar": {
            "outlinewidth": 0,
            "ticks": ""
           }
          },
          "colorscale": {
           "diverging": [
            [
             0,
             "#8e0152"
            ],
            [
             0.1,
             "#c51b7d"
            ],
            [
             0.2,
             "#de77ae"
            ],
            [
             0.3,
             "#f1b6da"
            ],
            [
             0.4,
             "#fde0ef"
            ],
            [
             0.5,
             "#f7f7f7"
            ],
            [
             0.6,
             "#e6f5d0"
            ],
            [
             0.7,
             "#b8e186"
            ],
            [
             0.8,
             "#7fbc41"
            ],
            [
             0.9,
             "#4d9221"
            ],
            [
             1,
             "#276419"
            ]
           ],
           "sequential": [
            [
             0,
             "#0d0887"
            ],
            [
             0.1111111111111111,
             "#46039f"
            ],
            [
             0.2222222222222222,
             "#7201a8"
            ],
            [
             0.3333333333333333,
             "#9c179e"
            ],
            [
             0.4444444444444444,
             "#bd3786"
            ],
            [
             0.5555555555555556,
             "#d8576b"
            ],
            [
             0.6666666666666666,
             "#ed7953"
            ],
            [
             0.7777777777777778,
             "#fb9f3a"
            ],
            [
             0.8888888888888888,
             "#fdca26"
            ],
            [
             1,
             "#f0f921"
            ]
           ],
           "sequentialminus": [
            [
             0,
             "#0d0887"
            ],
            [
             0.1111111111111111,
             "#46039f"
            ],
            [
             0.2222222222222222,
             "#7201a8"
            ],
            [
             0.3333333333333333,
             "#9c179e"
            ],
            [
             0.4444444444444444,
             "#bd3786"
            ],
            [
             0.5555555555555556,
             "#d8576b"
            ],
            [
             0.6666666666666666,
             "#ed7953"
            ],
            [
             0.7777777777777778,
             "#fb9f3a"
            ],
            [
             0.8888888888888888,
             "#fdca26"
            ],
            [
             1,
             "#f0f921"
            ]
           ]
          },
          "colorway": [
           "#636efa",
           "#EF553B",
           "#00cc96",
           "#ab63fa",
           "#FFA15A",
           "#19d3f3",
           "#FF6692",
           "#B6E880",
           "#FF97FF",
           "#FECB52"
          ],
          "font": {
           "color": "#2a3f5f"
          },
          "geo": {
           "bgcolor": "white",
           "lakecolor": "white",
           "landcolor": "#E5ECF6",
           "showlakes": true,
           "showland": true,
           "subunitcolor": "white"
          },
          "hoverlabel": {
           "align": "left"
          },
          "hovermode": "closest",
          "mapbox": {
           "style": "light"
          },
          "paper_bgcolor": "white",
          "plot_bgcolor": "#E5ECF6",
          "polar": {
           "angularaxis": {
            "gridcolor": "white",
            "linecolor": "white",
            "ticks": ""
           },
           "bgcolor": "#E5ECF6",
           "radialaxis": {
            "gridcolor": "white",
            "linecolor": "white",
            "ticks": ""
           }
          },
          "scene": {
           "xaxis": {
            "backgroundcolor": "#E5ECF6",
            "gridcolor": "white",
            "gridwidth": 2,
            "linecolor": "white",
            "showbackground": true,
            "ticks": "",
            "zerolinecolor": "white"
           },
           "yaxis": {
            "backgroundcolor": "#E5ECF6",
            "gridcolor": "white",
            "gridwidth": 2,
            "linecolor": "white",
            "showbackground": true,
            "ticks": "",
            "zerolinecolor": "white"
           },
           "zaxis": {
            "backgroundcolor": "#E5ECF6",
            "gridcolor": "white",
            "gridwidth": 2,
            "linecolor": "white",
            "showbackground": true,
            "ticks": "",
            "zerolinecolor": "white"
           }
          },
          "shapedefaults": {
           "line": {
            "color": "#2a3f5f"
           }
          },
          "ternary": {
           "aaxis": {
            "gridcolor": "white",
            "linecolor": "white",
            "ticks": ""
           },
           "baxis": {
            "gridcolor": "white",
            "linecolor": "white",
            "ticks": ""
           },
           "bgcolor": "#E5ECF6",
           "caxis": {
            "gridcolor": "white",
            "linecolor": "white",
            "ticks": ""
           }
          },
          "title": {
           "x": 0.05
          },
          "xaxis": {
           "automargin": true,
           "gridcolor": "white",
           "linecolor": "white",
           "ticks": "",
           "title": {
            "standoff": 15
           },
           "zerolinecolor": "white",
           "zerolinewidth": 2
          },
          "yaxis": {
           "automargin": true,
           "gridcolor": "white",
           "linecolor": "white",
           "ticks": "",
           "title": {
            "standoff": 15
           },
           "zerolinecolor": "white",
           "zerolinewidth": 2
          }
         }
        }
       }
      },
      "text/html": [
       "<div>\n",
       "        \n",
       "        \n",
       "            <div id=\"65ca7131-35a9-47ff-ac5a-cc08ae01595a\" class=\"plotly-graph-div\" style=\"height:525px; width:100%;\"></div>\n",
       "            <script type=\"text/javascript\">\n",
       "                require([\"plotly\"], function(Plotly) {\n",
       "                    window.PLOTLYENV=window.PLOTLYENV || {};\n",
       "                    \n",
       "                if (document.getElementById(\"65ca7131-35a9-47ff-ac5a-cc08ae01595a\")) {\n",
       "                    Plotly.newPlot(\n",
       "                        '65ca7131-35a9-47ff-ac5a-cc08ae01595a',\n",
       "                        [{\"hovertemplate\": \"<b>%{hovertext}</b><br><br>name=%{text}<br>Lat=%{lat}<br>Lon=%{lon}<br>temperature=%{marker.color}<extra></extra>\", \"hovertext\": [\"Bayonne\", \"Bormes-les-Mimosas\", \"Cassis\", \"Bayonne\", \"Cassis\", \"Cassis\", \"Cassis\", \"Cassis\", \"Cassis\", \"Bayonne\", \"Bayonne\", \"Collioure\", \"Collioure\", \"Cassis\", \"Cassis\", \"Cassis\", \"Bormes-les-Mimosas\", \"Bayonne\", \"Cassis\", \"Collioure\"], \"lat\": [43.484436388929005, 43.146445, 43.215219077059004, 43.496334999999995, 43.2152456888053, 43.215456, 43.214623017996, 43.215009, 43.216905, 43.495606, 43.4893908, 42.5271222, 42.524390000000004, 43.2150963, 43.21956244598601, 43.214626130929496, 43.159155431371204, 43.4940723, 43.2164402368568, 42.5224086], \"legendgroup\": \"\", \"lon\": [-1.4608242, 6.327724, 5.535681865746, -1.473749, 5.54466784000397, 5.535734, 5.543612509787001, 5.530956, 5.541446, -1.481317, -1.4790953000000002, 3.0765160999999397, 3.0827259999999996, 5.542307, 5.539989455469001, 5.53784390552255, 6.32169306278229, -1.4644137999999898, 5.5417457245369, 3.0869409], \"marker\": {\"color\": [18.81857143, 18.84857143, 18.40428571, 18.81857143, 18.40428571, 18.40428571, 18.40428571, 18.40428571, 18.40428571, 18.81857143, 18.81857143, 19.26714286, 19.26714286, 18.40428571, 18.40428571, 18.40428571, 18.84857143, 18.81857143, 18.40428571, 19.26714286], \"coloraxis\": \"coloraxis\", \"opacity\": 0.6, \"size\": 16}, \"mode\": \"markers+text\", \"name\": \"\", \"showlegend\": false, \"subplot\": \"mapbox\", \"text\": [\"UNIQUE APPARTEMENT TYPE HAUSSMANIEN - BAYONNE CENTRE\", \"HomeStay Bormes\", \"SunRise Cassis\", \"P\\u00e9niche DJEBELLE\", \"Chambre d'h\\u00f4tes Clos du Petit J\\u00e9sus\", \"SunSet Cassis\", \"CASSIS CENTRE NEUF 72 M2 CLIM ET PLACE PRIV\\u00c9E\", \"La douceur de Cassis\", \"Cassis Ma Vie L\\u00e0\", \"Parc 709 Bayonne\", \"5 Rue des Faures\", \"Appartement Sous le Soleil\", \"Les Suites de Collioure\", \"CASSIS CENTER\", \"INDIGO\", \"Appart Port Cassis Village Parking\", \"Villa Nais B&B\", \"Large and confortable apartment on Bayonne city-center - Welkeys\", \"HPC Suites\", \"COLLIOURE tres bel appart a 150 metres des plages avec jardin prive et parking dans residence securisee\"], \"type\": \"scattermapbox\"}],\n",
       "                        {\"coloraxis\": {\"colorbar\": {\"title\": {\"text\": \"temperature\"}}, \"colorscale\": [[0.0, \"rgb(255,255,204)\"], [0.125, \"rgb(255,237,160)\"], [0.25, \"rgb(254,217,118)\"], [0.375, \"rgb(254,178,76)\"], [0.5, \"rgb(253,141,60)\"], [0.625, \"rgb(252,78,42)\"], [0.75, \"rgb(227,26,28)\"], [0.875, \"rgb(189,0,38)\"], [1.0, \"rgb(128,0,38)\"]]}, \"legend\": {\"tracegroupgap\": 0}, \"mapbox\": {\"center\": {\"lat\": 43.174877230896634, \"lon\": 3.496509253192383}, \"domain\": {\"x\": [0.0, 1.0], \"y\": [0.0, 1.0]}, \"style\": \"carto-darkmatter\", \"zoom\": 3.4}, \"margin\": {\"t\": 60}, \"template\": {\"data\": {\"bar\": [{\"error_x\": {\"color\": \"#2a3f5f\"}, \"error_y\": {\"color\": \"#2a3f5f\"}, \"marker\": {\"line\": {\"color\": \"#E5ECF6\", \"width\": 0.5}}, \"type\": \"bar\"}], \"barpolar\": [{\"marker\": {\"line\": {\"color\": \"#E5ECF6\", \"width\": 0.5}}, \"type\": \"barpolar\"}], \"carpet\": [{\"aaxis\": {\"endlinecolor\": \"#2a3f5f\", \"gridcolor\": \"white\", \"linecolor\": \"white\", \"minorgridcolor\": \"white\", \"startlinecolor\": \"#2a3f5f\"}, \"baxis\": {\"endlinecolor\": \"#2a3f5f\", \"gridcolor\": \"white\", \"linecolor\": \"white\", \"minorgridcolor\": \"white\", \"startlinecolor\": \"#2a3f5f\"}, \"type\": \"carpet\"}], \"choropleth\": [{\"colorbar\": {\"outlinewidth\": 0, \"ticks\": \"\"}, \"type\": \"choropleth\"}], \"contour\": [{\"colorbar\": {\"outlinewidth\": 0, \"ticks\": \"\"}, \"colorscale\": [[0.0, \"#0d0887\"], [0.1111111111111111, \"#46039f\"], [0.2222222222222222, \"#7201a8\"], [0.3333333333333333, \"#9c179e\"], [0.4444444444444444, \"#bd3786\"], [0.5555555555555556, \"#d8576b\"], [0.6666666666666666, \"#ed7953\"], [0.7777777777777778, \"#fb9f3a\"], [0.8888888888888888, \"#fdca26\"], [1.0, \"#f0f921\"]], \"type\": \"contour\"}], \"contourcarpet\": [{\"colorbar\": {\"outlinewidth\": 0, \"ticks\": \"\"}, \"type\": \"contourcarpet\"}], \"heatmap\": [{\"colorbar\": {\"outlinewidth\": 0, \"ticks\": \"\"}, \"colorscale\": [[0.0, \"#0d0887\"], [0.1111111111111111, \"#46039f\"], [0.2222222222222222, \"#7201a8\"], [0.3333333333333333, \"#9c179e\"], [0.4444444444444444, \"#bd3786\"], [0.5555555555555556, \"#d8576b\"], [0.6666666666666666, \"#ed7953\"], [0.7777777777777778, \"#fb9f3a\"], [0.8888888888888888, \"#fdca26\"], [1.0, \"#f0f921\"]], \"type\": \"heatmap\"}], \"heatmapgl\": [{\"colorbar\": {\"outlinewidth\": 0, \"ticks\": \"\"}, \"colorscale\": [[0.0, \"#0d0887\"], [0.1111111111111111, \"#46039f\"], [0.2222222222222222, \"#7201a8\"], [0.3333333333333333, \"#9c179e\"], [0.4444444444444444, \"#bd3786\"], [0.5555555555555556, \"#d8576b\"], [0.6666666666666666, \"#ed7953\"], [0.7777777777777778, \"#fb9f3a\"], [0.8888888888888888, \"#fdca26\"], [1.0, \"#f0f921\"]], \"type\": \"heatmapgl\"}], \"histogram\": [{\"marker\": {\"colorbar\": {\"outlinewidth\": 0, \"ticks\": \"\"}}, \"type\": \"histogram\"}], \"histogram2d\": [{\"colorbar\": {\"outlinewidth\": 0, \"ticks\": \"\"}, \"colorscale\": [[0.0, \"#0d0887\"], [0.1111111111111111, \"#46039f\"], [0.2222222222222222, \"#7201a8\"], [0.3333333333333333, \"#9c179e\"], [0.4444444444444444, \"#bd3786\"], [0.5555555555555556, \"#d8576b\"], [0.6666666666666666, \"#ed7953\"], [0.7777777777777778, \"#fb9f3a\"], [0.8888888888888888, \"#fdca26\"], [1.0, \"#f0f921\"]], \"type\": \"histogram2d\"}], \"histogram2dcontour\": [{\"colorbar\": {\"outlinewidth\": 0, \"ticks\": \"\"}, \"colorscale\": [[0.0, \"#0d0887\"], [0.1111111111111111, \"#46039f\"], [0.2222222222222222, \"#7201a8\"], [0.3333333333333333, \"#9c179e\"], [0.4444444444444444, \"#bd3786\"], [0.5555555555555556, \"#d8576b\"], [0.6666666666666666, \"#ed7953\"], [0.7777777777777778, \"#fb9f3a\"], [0.8888888888888888, \"#fdca26\"], [1.0, \"#f0f921\"]], \"type\": \"histogram2dcontour\"}], \"mesh3d\": [{\"colorbar\": {\"outlinewidth\": 0, \"ticks\": \"\"}, \"type\": \"mesh3d\"}], \"parcoords\": [{\"line\": {\"colorbar\": {\"outlinewidth\": 0, \"ticks\": \"\"}}, \"type\": \"parcoords\"}], \"pie\": [{\"automargin\": true, \"type\": \"pie\"}], \"scatter\": [{\"marker\": {\"colorbar\": {\"outlinewidth\": 0, \"ticks\": \"\"}}, \"type\": \"scatter\"}], \"scatter3d\": [{\"line\": {\"colorbar\": {\"outlinewidth\": 0, \"ticks\": \"\"}}, \"marker\": {\"colorbar\": {\"outlinewidth\": 0, \"ticks\": \"\"}}, \"type\": \"scatter3d\"}], \"scattercarpet\": [{\"marker\": {\"colorbar\": {\"outlinewidth\": 0, \"ticks\": \"\"}}, \"type\": \"scattercarpet\"}], \"scattergeo\": [{\"marker\": {\"colorbar\": {\"outlinewidth\": 0, \"ticks\": \"\"}}, \"type\": \"scattergeo\"}], \"scattergl\": [{\"marker\": {\"colorbar\": {\"outlinewidth\": 0, \"ticks\": \"\"}}, \"type\": \"scattergl\"}], \"scattermapbox\": [{\"marker\": {\"colorbar\": {\"outlinewidth\": 0, \"ticks\": \"\"}}, \"type\": \"scattermapbox\"}], \"scatterpolar\": [{\"marker\": {\"colorbar\": {\"outlinewidth\": 0, \"ticks\": \"\"}}, \"type\": \"scatterpolar\"}], \"scatterpolargl\": [{\"marker\": {\"colorbar\": {\"outlinewidth\": 0, \"ticks\": \"\"}}, \"type\": \"scatterpolargl\"}], \"scatterternary\": [{\"marker\": {\"colorbar\": {\"outlinewidth\": 0, \"ticks\": \"\"}}, \"type\": \"scatterternary\"}], \"surface\": [{\"colorbar\": {\"outlinewidth\": 0, \"ticks\": \"\"}, \"colorscale\": [[0.0, \"#0d0887\"], [0.1111111111111111, \"#46039f\"], [0.2222222222222222, \"#7201a8\"], [0.3333333333333333, \"#9c179e\"], [0.4444444444444444, \"#bd3786\"], [0.5555555555555556, \"#d8576b\"], [0.6666666666666666, \"#ed7953\"], [0.7777777777777778, \"#fb9f3a\"], [0.8888888888888888, \"#fdca26\"], [1.0, \"#f0f921\"]], \"type\": \"surface\"}], \"table\": [{\"cells\": {\"fill\": {\"color\": \"#EBF0F8\"}, \"line\": {\"color\": \"white\"}}, \"header\": {\"fill\": {\"color\": \"#C8D4E3\"}, \"line\": {\"color\": \"white\"}}, \"type\": \"table\"}]}, \"layout\": {\"annotationdefaults\": {\"arrowcolor\": \"#2a3f5f\", \"arrowhead\": 0, \"arrowwidth\": 1}, \"coloraxis\": {\"colorbar\": {\"outlinewidth\": 0, \"ticks\": \"\"}}, \"colorscale\": {\"diverging\": [[0, \"#8e0152\"], [0.1, \"#c51b7d\"], [0.2, \"#de77ae\"], [0.3, \"#f1b6da\"], [0.4, \"#fde0ef\"], [0.5, \"#f7f7f7\"], [0.6, \"#e6f5d0\"], [0.7, \"#b8e186\"], [0.8, \"#7fbc41\"], [0.9, \"#4d9221\"], [1, \"#276419\"]], \"sequential\": [[0.0, \"#0d0887\"], [0.1111111111111111, \"#46039f\"], [0.2222222222222222, \"#7201a8\"], [0.3333333333333333, \"#9c179e\"], [0.4444444444444444, \"#bd3786\"], [0.5555555555555556, \"#d8576b\"], [0.6666666666666666, \"#ed7953\"], [0.7777777777777778, \"#fb9f3a\"], [0.8888888888888888, \"#fdca26\"], [1.0, \"#f0f921\"]], \"sequentialminus\": [[0.0, \"#0d0887\"], [0.1111111111111111, \"#46039f\"], [0.2222222222222222, \"#7201a8\"], [0.3333333333333333, \"#9c179e\"], [0.4444444444444444, \"#bd3786\"], [0.5555555555555556, \"#d8576b\"], [0.6666666666666666, \"#ed7953\"], [0.7777777777777778, \"#fb9f3a\"], [0.8888888888888888, \"#fdca26\"], [1.0, \"#f0f921\"]]}, \"colorway\": [\"#636efa\", \"#EF553B\", \"#00cc96\", \"#ab63fa\", \"#FFA15A\", \"#19d3f3\", \"#FF6692\", \"#B6E880\", \"#FF97FF\", \"#FECB52\"], \"font\": {\"color\": \"#2a3f5f\"}, \"geo\": {\"bgcolor\": \"white\", \"lakecolor\": \"white\", \"landcolor\": \"#E5ECF6\", \"showlakes\": true, \"showland\": true, \"subunitcolor\": \"white\"}, \"hoverlabel\": {\"align\": \"left\"}, \"hovermode\": \"closest\", \"mapbox\": {\"style\": \"light\"}, \"paper_bgcolor\": \"white\", \"plot_bgcolor\": \"#E5ECF6\", \"polar\": {\"angularaxis\": {\"gridcolor\": \"white\", \"linecolor\": \"white\", \"ticks\": \"\"}, \"bgcolor\": \"#E5ECF6\", \"radialaxis\": {\"gridcolor\": \"white\", \"linecolor\": \"white\", \"ticks\": \"\"}}, \"scene\": {\"xaxis\": {\"backgroundcolor\": \"#E5ECF6\", \"gridcolor\": \"white\", \"gridwidth\": 2, \"linecolor\": \"white\", \"showbackground\": true, \"ticks\": \"\", \"zerolinecolor\": \"white\"}, \"yaxis\": {\"backgroundcolor\": \"#E5ECF6\", \"gridcolor\": \"white\", \"gridwidth\": 2, \"linecolor\": \"white\", \"showbackground\": true, \"ticks\": \"\", \"zerolinecolor\": \"white\"}, \"zaxis\": {\"backgroundcolor\": \"#E5ECF6\", \"gridcolor\": \"white\", \"gridwidth\": 2, \"linecolor\": \"white\", \"showbackground\": true, \"ticks\": \"\", \"zerolinecolor\": \"white\"}}, \"shapedefaults\": {\"line\": {\"color\": \"#2a3f5f\"}}, \"ternary\": {\"aaxis\": {\"gridcolor\": \"white\", \"linecolor\": \"white\", \"ticks\": \"\"}, \"baxis\": {\"gridcolor\": \"white\", \"linecolor\": \"white\", \"ticks\": \"\"}, \"bgcolor\": \"#E5ECF6\", \"caxis\": {\"gridcolor\": \"white\", \"linecolor\": \"white\", \"ticks\": \"\"}}, \"title\": {\"x\": 0.05}, \"xaxis\": {\"automargin\": true, \"gridcolor\": \"white\", \"linecolor\": \"white\", \"ticks\": \"\", \"title\": {\"standoff\": 15}, \"zerolinecolor\": \"white\", \"zerolinewidth\": 2}, \"yaxis\": {\"automargin\": true, \"gridcolor\": \"white\", \"linecolor\": \"white\", \"ticks\": \"\", \"title\": {\"standoff\": 15}, \"zerolinecolor\": \"white\", \"zerolinewidth\": 2}}}},\n",
       "                        {\"responsive\": true}\n",
       "                    ).then(function(){\n",
       "                            \n",
       "var gd = document.getElementById('65ca7131-35a9-47ff-ac5a-cc08ae01595a');\n",
       "var x = new MutationObserver(function (mutations, observer) {{\n",
       "        var display = window.getComputedStyle(gd).display;\n",
       "        if (!display || display === 'none') {{\n",
       "            console.log([gd, 'removed!']);\n",
       "            Plotly.purge(gd);\n",
       "            observer.disconnect();\n",
       "        }}\n",
       "}});\n",
       "\n",
       "// Listen for the removal of the full notebook cells\n",
       "var notebookContainer = gd.closest('#notebook-container');\n",
       "if (notebookContainer) {{\n",
       "    x.observe(notebookContainer, {childList: true});\n",
       "}}\n",
       "\n",
       "// Listen for the clearing of the current output cell\n",
       "var outputEl = gd.closest('.output');\n",
       "if (outputEl) {{\n",
       "    x.observe(outputEl, {childList: true});\n",
       "}}\n",
       "\n",
       "                        })\n",
       "                };\n",
       "                });\n",
       "            </script>\n",
       "        </div>"
      ]
     },
     "metadata": {},
     "output_type": "display_data"
    }
   ],
   "source": [
    "#paramétrage et lancement du graphique interractif\n",
    "fig = px.scatter_mapbox(dataset, lat=\"Lat\", lon=\"Lon\", text=\"name\", hover_name=\"city\",color=\"temperature\", \n",
    "                        mapbox_style=\"carto-darkmatter\", opacity=0.6, zoom = 3.4, color_continuous_scale = 'ylorrd')\n",
    "fig.update_traces(marker_size=16)\n",
    "fig.show()"
   ]
  },
  {
   "cell_type": "code",
   "execution_count": null,
   "metadata": {},
   "outputs": [],
   "source": []
  },
  {
   "cell_type": "code",
   "execution_count": null,
   "metadata": {},
   "outputs": [],
   "source": []
  }
 ],
 "metadata": {
  "kernelspec": {
   "display_name": "Python 3 (ipykernel)",
   "language": "python",
   "name": "python3"
  },
  "language_info": {
   "codemirror_mode": {
    "name": "ipython",
    "version": 3
   },
   "file_extension": ".py",
   "mimetype": "text/x-python",
   "name": "python",
   "nbconvert_exporter": "python",
   "pygments_lexer": "ipython3",
   "version": "3.7.1"
  }
 },
 "nbformat": 4,
 "nbformat_minor": 2
}
